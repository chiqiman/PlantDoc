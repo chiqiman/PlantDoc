{
  "cells": [
    {
      "cell_type": "code",
      "execution_count": null,
      "metadata": {
        "id": "1zWSXr_oncL0"
      },
      "outputs": [],
      "source": [
        "from google.colab import drive\n",
        "drive.mount('/content/gdrive')"
      ]
    },
    {
      "cell_type": "code",
      "execution_count": null,
      "metadata": {
        "id": "Hnq1ASBK71ro"
      },
      "outputs": [],
      "source": [
        "!unzip /content/gdrive/MyDrive/archive.zip"
      ]
    },
    {
      "cell_type": "code",
      "execution_count": null,
      "metadata": {
        "id": "NXGxwYxh7HpX"
      },
      "outputs": [],
      "source": [
        "import warnings\n",
        "warnings.filterwarnings(\"ignore\")\n",
        "import matplotlib.pyplot as plt\n",
        "import cv2\n",
        "import numpy as np\n",
        "import tensorflow as tf\n",
        "from tensorflow import keras\n",
        "from tensorflow.keras.preprocessing import image_dataset_from_directory\n",
        "from tensorflow.keras.layers.experimental.preprocessing import Rescaling\n",
        "from tensorflow.keras import callbacks\n",
        "from tensorflow.keras.preprocessing.image import load_img, img_to_array\n",
        "from keras.preprocessing import image"
      ]
    },
    {
      "cell_type": "code",
      "execution_count": null,
      "metadata": {
        "id": "6EPL3q367LJC"
      },
      "outputs": [],
      "source": [
        "train_data = '/content/new plant diseases dataset(augmented)/New Plant Diseases Dataset(Augmented)/train'\n",
        "valid_data = '/content/new plant diseases dataset(augmented)/New Plant Diseases Dataset(Augmented)/valid'"
      ]
    },
    {
      "cell_type": "code",
      "execution_count": null,
      "metadata": {
        "id": "lIE2VkOo721s"
      },
      "outputs": [],
      "source": [
        "# Define data generators with data augmentation\n",
        "train_datagen = keras.preprocessing.image.ImageDataGenerator(\n",
        "    rescale=1./255,\n",
        "    rotation_range=30,\n",
        "    width_shift_range=0.2,\n",
        "    height_shift_range=0.2,\n",
        "    shear_range=.2,\n",
        "    zoom_range=0.2,\n",
        "    horizontal_flip=True,\n",
        "    fill_mode='nearest'\n",
        ")\n",
        "test_datagen = keras.preprocessing.image.ImageDataGenerator(rescale=1./255)\n"
      ]
    },
    {
      "cell_type": "code",
      "execution_count": null,
      "metadata": {
        "id": "mjSNUp6b8H1-"
      },
      "outputs": [],
      "source": [
        "train_gen = train_datagen.flow_from_directory(\n",
        "    train_data,\n",
        "    target_size=(256, 256),\n",
        "    batch_size=64,\n",
        "    class_mode='sparse'\n",
        ")\n",
        "test_gen = test_datagen.flow_from_directory(\n",
        "    valid_data,\n",
        "    target_size=(256, 256),\n",
        "    batch_size=64,\n",
        "    class_mode='sparse'\n",
        ")"
      ]
    },
    {
      "cell_type": "code",
      "execution_count": null,
      "metadata": {
        "id": "IWLRcBge8K6u"
      },
      "outputs": [],
      "source": [
        "# definisikan model transfer learning dan regulasi\n",
        "base_model = keras.applications.MobileNetV2(\n",
        "    weights='imagenet',\n",
        "    include_top=False,\n",
        "    input_shape=(256, 256, 3)\n",
        ")\n",
        "\n",
        "for layer in base_model.layers[:-4]:\n",
        "    layer.trainable = False\n",
        "\n",
        "model = keras.Sequential([\n",
        "    base_model,\n",
        "    keras.layers.GlobalAveragePooling2D(),\n",
        "    keras.layers.Dense(1024, activation='relu'),\n",
        "    keras.layers.Dropout(0.5), #mengurangi overfitting\n",
        "    keras.layers.Dense(38, activation='softmax')\n",
        "])\n",
        "\n",
        "opt = keras.optimizers.Adam(learning_rate=0.0001)\n",
        "model.compile(optimizer=opt, loss='sparse_categorical_crossentropy', metrics=['accuracy'])\n",
        "model.summary()"
      ]
    },
    {
      "cell_type": "code",
      "execution_count": null,
      "metadata": {
        "id": "aVTVLFqj8P7K"
      },
      "outputs": [],
      "source": [
        "my_callbacks = [\n",
        "    tf.keras.callbacks.EarlyStopping(patience=3),\n",
        "    tf.keras.callbacks.ModelCheckpoint(filepath='/content/gdrive/MyDrive/Model.{epoch:02d}-{val_loss:.2f}.h5'),\n",
        "    tf.keras.callbacks.TensorBoard(log_dir='./logs'),\n",
        "]\n",
        "\n",
        "history = model.fit(train_gen, validation_data=test_gen, epochs=25, callbacks=my_callbacks)"
      ]
    },
    {
      "cell_type": "code",
      "source": [
        "plt.figure(figsize= (20,5))\n",
        "cm = confusion_matrix(labels, predictions)\n",
        "disp = ConfusionMatrixDisplay(confusion_matrix=cm,\n",
        "                              display_labels=list(range(1,39)))\n",
        "fig, ax = plt.subplots(figsize=(15,15))\n",
        "disp.plot(ax=ax,colorbar= False,cmap = 'YlGnBu')\n",
        "plt.title(\"Confusion Matrix\")\n",
        "plt.xlabel('Predicted Labels')\n",
        "plt.ylabel('True Labels')\n",
        "plt.savefig('confusion_matrix.png')\n",
        "plt.show()"
      ],
      "metadata": {
        "id": "6Wg4whbxD9eI"
      },
      "execution_count": null,
      "outputs": []
    },
    {
      "cell_type": "code",
      "execution_count": null,
      "metadata": {
        "id": "CY28cXHJ8Tg6"
      },
      "outputs": [],
      "source": [
        "from tensorflow.keras.models import load_model\n",
        "from tensorflow.keras.preprocessing.image import load_img, img_to_array\n",
        "\n",
        "# Load trained model\n",
        "model_path = '/content/gdrive/MyDrive/Model.18-0.08.h5'  # Ganti dengan path model yang ingin Anda gunakan\n",
        "model = load_model(model_path)\n",
        "\n",
        "converter = tf.lite.TFLiteConverter.from_keras_model(model)\n",
        "tflite_model = converter.convert()"
      ]
    },
    {
      "cell_type": "code",
      "source": [
        "model_path = '/content/gdrive/MyDrive/Model/model.tflite'\n",
        "with open(model_path, 'wb') as f:\n",
        "    f.write(tflite_model)"
      ],
      "metadata": {
        "id": "SlsJQoiXB4BD"
      },
      "execution_count": null,
      "outputs": []
    },
    {
      "cell_type": "code",
      "source": [
        "# Input gambar untuk prediksi\n",
        "image_path = '/content/OIP (3).jpg'  # Ganti dengan path gambar yang ingin Anda uji\n",
        "image = load_img(image_path, target_size=(256, 256))\n",
        "image_array = img_to_array(image)\n",
        "image_array = image_array / 255.0\n",
        "image_array = np.expand_dims(image_array, axis=0)\n",
        "\n",
        "# Melakukan prediksi dengan model\n",
        "predictions = model.predict(image_array)\n",
        "class_index = np.argmax(predictions[0])\n",
        "\n",
        "print(\"Prediksi kelas:\", class_index)"
      ],
      "metadata": {
        "colab": {
          "base_uri": "https://localhost:8080/"
        },
        "id": "VjFAdln-DVr1",
        "outputId": "32dd7240-3596-41f4-d7c0-66ed06305d3f"
      },
      "execution_count": null,
      "outputs": [
        {
          "output_type": "stream",
          "name": "stdout",
          "text": [
            "1/1 [==============================] - 0s 61ms/step\n",
            "Prediksi kelas: 0\n"
          ]
        }
      ]
    },
    {
      "cell_type": "code",
      "source": [
        "# Input gambar untuk prediksi\n",
        "image_path = '/content/OIP (1).jpg'  # Ganti dengan path gambar yang ingin Anda uji\n",
        "image = load_img(image_path, target_size=(256, 256))\n",
        "image_array = img_to_array(image)\n",
        "image_array = image_array / 255.0\n",
        "image_array = np.expand_dims(image_array, axis=0)\n",
        "\n",
        "# Melakukan prediksi dengan model\n",
        "predictions = model.predict(image_array)\n",
        "class_index = np.argmax(predictions[0])\n",
        "\n",
        "print(\"Prediksi kelas:\", class_index)"
      ],
      "metadata": {
        "colab": {
          "base_uri": "https://localhost:8080/"
        },
        "id": "c3SJ4-FJEvgo",
        "outputId": "e2a7b7f9-51c5-4754-9691-d2ac32137cf4"
      },
      "execution_count": null,
      "outputs": [
        {
          "output_type": "stream",
          "name": "stdout",
          "text": [
            "1/1 [==============================] - 0s 27ms/step\n",
            "Prediksi kelas: 20\n"
          ]
        }
      ]
    },
    {
      "cell_type": "code",
      "source": [
        "# Input gambar untuk prediksi\n",
        "image_path = '/content/grape-leaf-white-background-grape-leaf-white-background-118078027.webp'  # Ganti dengan path gambar yang ingin Anda uji\n",
        "image = load_img(image_path, target_size=(256, 256))\n",
        "image_array = img_to_array(image)\n",
        "image_array = image_array / 255.0\n",
        "image_array = np.expand_dims(image_array, axis=0)\n",
        "\n",
        "# Melakukan prediksi dengan model\n",
        "predictions = model.predict(image_array)\n",
        "class_index = np.argmax(predictions[0])\n",
        "\n",
        "print(\"Prediksi kelas:\", class_index)"
      ],
      "metadata": {
        "id": "vmYMD6ZVFosk",
        "outputId": "f3f9d80a-f9ab-473f-fb5c-ec49dd0ffbcc",
        "colab": {
          "base_uri": "https://localhost:8080/"
        }
      },
      "execution_count": null,
      "outputs": [
        {
          "output_type": "stream",
          "name": "stdout",
          "text": [
            "1/1 [==============================] - 0s 26ms/step\n",
            "Prediksi kelas: 14\n"
          ]
        }
      ]
    }
  ],
  "metadata": {
    "accelerator": "GPU",
    "colab": {
      "provenance": [],
      "gpuType": "T4"
    },
    "kernelspec": {
      "display_name": "Python 3",
      "name": "python3"
    },
    "language_info": {
      "name": "python"
    }
  },
  "nbformat": 4,
  "nbformat_minor": 0
}